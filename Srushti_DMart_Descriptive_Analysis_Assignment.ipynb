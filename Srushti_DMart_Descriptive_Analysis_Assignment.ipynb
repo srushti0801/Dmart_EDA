{
 "cells": [
  {
   "cell_type": "markdown",
   "id": "03cc280c",
   "metadata": {},
   "source": [
    "# Descriptive Statistical Analysis of DMart Sales Data"
   ]
  },
  {
   "cell_type": "markdown",
   "id": "61c386b7",
   "metadata": {},
   "source": [
    "**Date:** 2025-04-30\n",
    "\n",
    "**Objective:** Explore and analyze the DMart sales dataset using descriptive statistics and visualization techniques."
   ]
  },
  {
   "cell_type": "markdown",
   "id": "9dc73074",
   "metadata": {},
   "source": [
    "## Task 1: Load and Preview the Dataset"
   ]
  },
  {
   "cell_type": "code",
   "execution_count": null,
   "id": "247240b2-6a7a-47dd-9813-b04837a5d436",
   "metadata": {},
   "outputs": [],
   "source": [
    "import numpy as np\n",
    "import pandas as pd\n",
    "import matplotlib.pyplot as plt\n",
    "import seaborn as sns\n",
    "import scipy.stats as st\n",
    "import warnings\n",
    "warnings.filterwarnings('ignore')"
   ]
  },
  {
   "cell_type": "code",
   "execution_count": null,
   "id": "ab3ec17a-f26e-421c-aceb-5a2af7767c5c",
   "metadata": {},
   "outputs": [],
   "source": [
    "df=pd.read_csv(\"C:\\\\Users\\\\Srushti\\\\Desktop\\\\ML\\\\dmart.csv\",encoding='latin1')"
   ]
  },
  {
   "cell_type": "code",
   "execution_count": null,
   "id": "8ebf160a-e1df-4db3-b9bb-4bdca1e80614",
   "metadata": {},
   "outputs": [],
   "source": [
    "df"
   ]
  },
  {
   "cell_type": "code",
   "execution_count": null,
   "id": "d7bbc33a-2bf9-4618-beac-e883bb503636",
   "metadata": {},
   "outputs": [],
   "source": [
    "df.info()"
   ]
  },
  {
   "cell_type": "code",
   "execution_count": null,
   "id": "3b8937d4-ad9e-4a90-95fe-1a3018deb93d",
   "metadata": {},
   "outputs": [],
   "source": [
    "df.describe()"
   ]
  },
  {
   "cell_type": "code",
   "execution_count": null,
   "id": "ec0839f6-50f8-4263-8491-18baea83b699",
   "metadata": {},
   "outputs": [],
   "source": [
    "df.head()"
   ]
  },
  {
   "cell_type": "code",
   "execution_count": null,
   "id": "a6c1b418-f1fe-45b5-9db7-07eb8e4d607f",
   "metadata": {},
   "outputs": [],
   "source": [
    "df.tail()"
   ]
  },
  {
   "cell_type": "code",
   "execution_count": null,
   "id": "78dc355f-cd8d-4539-a4ad-f5ff6f52b31a",
   "metadata": {},
   "outputs": [],
   "source": []
  },
  {
   "cell_type": "markdown",
   "id": "1705aea0",
   "metadata": {},
   "source": [
    "## Task 2: Data Cleaning"
   ]
  },
  {
   "cell_type": "markdown",
   "id": "81642536-7eaa-478b-aa7f-ed46ad2c4c4d",
   "metadata": {},
   "source": [
    "##### removing unnecessary columns"
   ]
  },
  {
   "cell_type": "code",
   "execution_count": null,
   "id": "2b3524a6-4f93-402d-a707-f5c8c2c60971",
   "metadata": {},
   "outputs": [],
   "source": [
    "df.drop(['Delivery Date' , 'Cancellation Date' , 'Pin Code'],axis=1)"
   ]
  },
  {
   "cell_type": "code",
   "execution_count": null,
   "id": "a23d06ee-96fb-452c-8426-b748be884f15",
   "metadata": {},
   "outputs": [],
   "source": [
    "df['Total Order Value'] = pd.to_numeric(df['Total Order Value'], errors='coerce')"
   ]
  },
  {
   "cell_type": "markdown",
   "id": "bbd56c29",
   "metadata": {},
   "source": [
    "## Task 3: Descriptive Statistics"
   ]
  },
  {
   "cell_type": "code",
   "execution_count": null,
   "id": "a08c09a7-a2f9-4337-81a8-2cc1ebaa6845",
   "metadata": {},
   "outputs": [],
   "source": [
    "import Srushti_statistics"
   ]
  },
  {
   "cell_type": "code",
   "execution_count": null,
   "id": "3af23720-0ec9-453a-af32-d96374a88ebf",
   "metadata": {},
   "outputs": [],
   "source": [
    "Srushti_statistics.cal_stats('dmart',df['MRP'])"
   ]
  },
  {
   "cell_type": "markdown",
   "id": "ff779926-c112-4b56-bd58-51495b521004",
   "metadata": {},
   "source": [
    "##### Adding a new column 'PROFIT [PROFIT = MRP - (DISCOUNT + SHIPPING)]"
   ]
  },
  {
   "cell_type": "code",
   "execution_count": null,
   "id": "45882ed5-ab5d-49fb-b5ff-452a0ab204e9",
   "metadata": {},
   "outputs": [],
   "source": [
    "df['PROFIT']=df['MRP']-(df['Discount Price']+df['Shipping Charges'])"
   ]
  },
  {
   "cell_type": "markdown",
   "id": "34d94862-d558-4121-a654-36556be625ce",
   "metadata": {},
   "source": [
    "##### Categorizing Profit "
   ]
  },
  {
   "cell_type": "code",
   "execution_count": null,
   "id": "bb611126-ca56-4f45-a503-9408cad4f59b",
   "metadata": {},
   "outputs": [],
   "source": [
    "#max profit\n",
    "df.loc[df['PROFIT']>70, 'profit_category'] = 'maximum profit'\n",
    "\n",
    "#min/less profit\n",
    "df.loc[(df['PROFIT']>0) & (df['PROFIT']<=70),'profit_category'] = 'minimum profit'\n",
    "\n",
    "#loss\n",
    "df.loc[df['PROFIT']<0, 'profit_category'] = 'loss'\n",
    "\n",
    "# no profit\n",
    "df.loc[df['PROFIT']==0,'profit_category'] = 'no profit'"
   ]
  },
  {
   "cell_type": "code",
   "execution_count": null,
   "id": "b5938c8a-b030-44e0-9f8d-4a0709ff10c7",
   "metadata": {},
   "outputs": [],
   "source": [
    "print(df[['MRP', 'Discount Price', 'Shipping Charges', 'profit_category']])\n"
   ]
  },
  {
   "cell_type": "markdown",
   "id": "44afe21e-72d6-4922-9448-a182b7b96eea",
   "metadata": {},
   "source": [
    "##### Grouping profit category and calculating average MRP, Discount Price, and Shipping Charges"
   ]
  },
  {
   "cell_type": "code",
   "execution_count": null,
   "id": "1aad2aeb-c8e4-4d8d-a8e0-40861b0c1e97",
   "metadata": {},
   "outputs": [],
   "source": [
    "group_category = df.groupby('profit_category')[['MRP', 'Discount Price', 'Shipping Charges']].mean()\n"
   ]
  },
  {
   "cell_type": "code",
   "execution_count": null,
   "id": "95e38ad1-4cb7-4b9d-8b67-2fac233bc77f",
   "metadata": {},
   "outputs": [],
   "source": [
    "group_category"
   ]
  },
  {
   "cell_type": "code",
   "execution_count": null,
   "id": "e94278a3-86ef-44f2-9f9a-8964ccfd270b",
   "metadata": {},
   "outputs": [],
   "source": []
  },
  {
   "cell_type": "markdown",
   "id": "4eee1a1e-7d01-4223-835a-3cace6fd0e05",
   "metadata": {},
   "source": [
    "##### listing product names by profit category"
   ]
  },
  {
   "cell_type": "code",
   "execution_count": null,
   "id": "565d9d32-530d-4591-a86d-319a6c765fc5",
   "metadata": {},
   "outputs": [],
   "source": [
    "maximum_profit_products = df[df['profit_category'] == 'maximum profit'][['Product Name']]\n",
    "minimum_profit_products = df[df['profit_category'] == 'minimum profit'][['Product Name']]\n",
    "no_profit_products = df[df['profit_category'] == 'No Profit'][['Product Name']]\n",
    "loss_products = df[df['profit_category'] == 'loss'][['Product Name']]"
   ]
  },
  {
   "cell_type": "code",
   "execution_count": null,
   "id": "63fb8759-aa65-4297-8f11-fcdc9dacba1b",
   "metadata": {},
   "outputs": [],
   "source": [
    "maximum_profit_products"
   ]
  },
  {
   "cell_type": "code",
   "execution_count": null,
   "id": "1a4aeba5-ab8f-43b9-bc10-2760ea9916e4",
   "metadata": {},
   "outputs": [],
   "source": [
    "minimum_profit_products"
   ]
  },
  {
   "cell_type": "code",
   "execution_count": null,
   "id": "a2c1a6f9-9a8b-4735-a44b-4d1d2a9d1726",
   "metadata": {},
   "outputs": [],
   "source": [
    "no_profit_products"
   ]
  },
  {
   "cell_type": "code",
   "execution_count": null,
   "id": "4c006769-57e7-4650-8106-d5eb630eb476",
   "metadata": {},
   "outputs": [],
   "source": [
    "loss_products"
   ]
  },
  {
   "cell_type": "code",
   "execution_count": null,
   "id": "c413f4b0-4911-49ec-b293-cff7a12bfa21",
   "metadata": {},
   "outputs": [],
   "source": []
  },
  {
   "cell_type": "code",
   "execution_count": null,
   "id": "d4748952-cf30-4487-81b9-eb002d470530",
   "metadata": {},
   "outputs": [],
   "source": []
  },
  {
   "cell_type": "markdown",
   "id": "6f938591",
   "metadata": {},
   "source": [
    "## Task 4: Visualizations"
   ]
  },
  {
   "cell_type": "markdown",
   "id": "fee8d72e-5b0c-4ed3-a9f8-0fb8403974a4",
   "metadata": {},
   "source": [
    "##### Bar Graph representing no. of products per profit category "
   ]
  },
  {
   "cell_type": "code",
   "execution_count": null,
   "id": "f40ff1e7-d1de-4426-ba15-2e92ce0fd746",
   "metadata": {},
   "outputs": [],
   "source": [
    "counts = {\n",
    "    'maximum profit': len(maximum_profit_products),\n",
    "    'minimum profit': len(minimum_profit_products),\n",
    "    'no profit': len(no_profit_products),\n",
    "    'loss products': len(loss_products)\n",
    "}\n",
    "plt.bar(counts.keys(), counts.values(), color=['#023e8a', '#0077b6', '#0096c7'])\n",
    "plt.title('Number of Unique Products per Profit Category')\n",
    "plt.xlabel('Profit Category')\n",
    "plt.ylabel('Number of Products')\n",
    "plt.show()"
   ]
  },
  {
   "cell_type": "markdown",
   "id": "dad3a145-eb34-4b21-ad3c-f8ed6b78267e",
   "metadata": {},
   "source": [
    "##### countplot representing payment status distribution by payment method"
   ]
  },
  {
   "cell_type": "code",
   "execution_count": null,
   "id": "18b6680a-0758-47c5-af0d-cdd6401f8e02",
   "metadata": {},
   "outputs": [],
   "source": [
    "df['Payment Status'].unique()\n",
    "df['Payment Method'].unique()\n",
    "sns.countplot(data=df, x='Payment Method', hue='Payment Status', palette='Blues')\n",
    "plt.title('Payment Status Distribution by Payment Method')\n",
    "plt.xlabel('Payment Method')\n",
    "plt.ylabel('Count')\n",
    "plt.xticks(rotation=45)\n",
    "plt.legend(title='Payment Status')"
   ]
  },
  {
   "cell_type": "markdown",
   "id": "891802de-2c0e-4a43-9c42-2693acd03b09",
   "metadata": {},
   "source": [
    "##### Pie Chart of Payment Method Distribution"
   ]
  },
  {
   "cell_type": "code",
   "execution_count": null,
   "id": "a7fe22fc-cc0d-4adf-8c72-6e13271efdf3",
   "metadata": {},
   "outputs": [],
   "source": [
    "payment_counts = df['Payment Method'].value_counts()\n",
    "plt.pie(payment_counts.values, labels=payment_counts.index, autopct='%1.1f%%', startangle=140, colors=sns.color_palette('Blues'))\n",
    "plt.title('Payment Method Distribution')\n",
    "plt.axis('equal')  \n",
    "plt.show()"
   ]
  },
  {
   "cell_type": "markdown",
   "id": "6600bbe5-5ee7-4dd9-9189-604ab279110c",
   "metadata": {},
   "source": [
    "##### Bar Chart of Top 10 Cities by Total order Value"
   ]
  },
  {
   "cell_type": "code",
   "execution_count": null,
   "id": "74c42c5e-af43-46de-83ec-403ce6de7a56",
   "metadata": {},
   "outputs": [],
   "source": [
    "top_10_cities = df.groupby('City')['Total Order Value'].sum().sort_values(ascending=False).head(10)\n",
    "top_10_cities\n",
    "sns.barplot(x=top_10_cities.index, y=top_10_cities.values, palette='Blues')\n",
    "plt.title('Top 10 Cities by Purchase')\n",
    "plt.xlabel('Cities')\n",
    "plt.ylabel('Total Order Value')\n",
    "plt.xticks(rotation=45)"
   ]
  },
  {
   "cell_type": "markdown",
   "id": "3157c5a9-7588-41c7-b509-a823e3c711e3",
   "metadata": {},
   "source": [
    "##### Scatterplot representing time spent on website vs no of clicks"
   ]
  },
  {
   "cell_type": "code",
   "execution_count": null,
   "id": "7e8a4ee0-f918-4374-be18-5e447e7b3c8e",
   "metadata": {},
   "outputs": [],
   "source": [
    "sns.scatterplot(data=df, x='Time Spent on Website', y='No of Clicks', alpha=0.5)\n",
    "plt.title('Time Spent on Website vs No of Clicks')\n",
    "plt.xlabel('Time Spent on Website (minutes)')\n",
    "plt.ylabel('Number of Clicks')\n",
    "plt.show()"
   ]
  },
  {
   "cell_type": "markdown",
   "id": "3e9fb6ad-71c1-471e-94d7-dd265e5ebab0",
   "metadata": {},
   "source": [
    "##### Barplot representing Number of orders by Age"
   ]
  },
  {
   "cell_type": "code",
   "execution_count": null,
   "id": "3d1b5b02-97a5-4014-ad5b-29658da1a896",
   "metadata": {},
   "outputs": [],
   "source": [
    "gender_count = df['Gender'].value_counts()\n",
    "sns.barplot(x=gender_count.index, y=gender_count.values, palette='Blues')\n",
    "plt.title('Number of Orders by Gender')\n",
    "plt.ylabel('Number of Orders')\n",
    "plt.xlabel('Gender')\n",
    "plt.show()"
   ]
  },
  {
   "cell_type": "markdown",
   "id": "411d1cbb-1207-4e4b-a60b-6b66d2c22830",
   "metadata": {},
   "source": [
    "##### Linechart defining Time spent on Website wrt Age"
   ]
  },
  {
   "cell_type": "code",
   "execution_count": null,
   "id": "3385f2f8-36ed-4e43-916e-ef817dd732b3",
   "metadata": {},
   "outputs": [],
   "source": [
    "time_spent = df.groupby('Customer Age')['Time Spent on Website'].mean()\n",
    "plt.plot(time_spent.index , time_spent.values,color = '#03045e')\n",
    "plt.title('Time spent on Website wrt Age')\n",
    "plt.show()"
   ]
  },
  {
   "cell_type": "markdown",
   "id": "6b605582",
   "metadata": {},
   "source": [
    "## Task 5: Grouped Analysis"
   ]
  },
  {
   "cell_type": "code",
   "execution_count": null,
   "id": "051d62ea-b7a5-4a69-be22-aa3a99ff31b2",
   "metadata": {},
   "outputs": [],
   "source": [
    "##### Displaying top 10 products based on highest average customer ratings"
   ]
  },
  {
   "cell_type": "code",
   "execution_count": null,
   "id": "34a617f4-c4a3-4d0f-9eef-e77d612f6878",
   "metadata": {},
   "outputs": [],
   "source": [
    "#df.groupby('Product Name')['Rating'].mean().sort_values(ascending=False).head(10)"
   ]
  },
  {
   "cell_type": "code",
   "execution_count": null,
   "id": "20f5631f-d25a-482a-93fb-e4ef7beff995",
   "metadata": {},
   "outputs": [],
   "source": [
    "df[['Product Name', 'Rating', 'Category']]"
   ]
  },
  {
   "cell_type": "markdown",
   "id": "0034c7c1-bab9-4dc9-accd-70310e2f3e82",
   "metadata": {},
   "source": [
    "##### Listing Local-category products"
   ]
  },
  {
   "cell_type": "code",
   "execution_count": null,
   "id": "81f004e9-4f1c-4d2c-9b34-3b638af8022f",
   "metadata": {},
   "outputs": [],
   "source": [
    "df['category_local'] = df['Category'] == 'Local'\n",
    "l_products = df[df['category_local'] == True][['Product Name', 'Rating' , 'category_local']]\n",
    "l_products"
   ]
  },
  {
   "cell_type": "markdown",
   "id": "952d5ad7-141e-4a43-977c-ec87041c45d1",
   "metadata": {},
   "source": [
    "##### Listing Imported-category products"
   ]
  },
  {
   "cell_type": "code",
   "execution_count": null,
   "id": "02a51c92-58b4-46b6-8862-c48fcd2b9dc8",
   "metadata": {},
   "outputs": [],
   "source": [
    "df['category_imported'] = df['Category'] == 'Imported'\n",
    "i_products = df[df['category_imported'] == True][['Product Name', 'Rating' , 'category_imported']]\n",
    "i_products"
   ]
  },
  {
   "cell_type": "markdown",
   "id": "d1702fa6-2318-4851-a071-cbdfbd25e138",
   "metadata": {},
   "source": [
    "##### Listing Branded-category products"
   ]
  },
  {
   "cell_type": "code",
   "execution_count": null,
   "id": "1e14ed32-46ba-4707-aa07-867b1d2eeaa1",
   "metadata": {},
   "outputs": [],
   "source": [
    "df['category_branded'] = df['Category'] == 'Branded'\n",
    "b_products = df[df['category_branded'] == True][['Product Name', 'Rating' , 'category_branded']]\n",
    "b_products"
   ]
  },
  {
   "cell_type": "markdown",
   "id": "0a019560-1803-4239-a4de-90e05c273bd1",
   "metadata": {},
   "source": [
    "##### Average Product Ratings by Product Name and Category"
   ]
  },
  {
   "cell_type": "code",
   "execution_count": null,
   "id": "398d9084-6a28-460d-bc17-cd3f23f2ed4c",
   "metadata": {},
   "outputs": [],
   "source": [
    "product_rating_avg = df.groupby(['Product Name', 'Category'])['Rating'].mean().reset_index()"
   ]
  },
  {
   "cell_type": "code",
   "execution_count": null,
   "id": "105c986f-0117-4a72-a0b0-b331f235387e",
   "metadata": {},
   "outputs": [],
   "source": [
    "sns.countplot(df['Category'],color='#0077b6')\n",
    "plt.title('Category Countplot')\n",
    "plt.show()\n",
    "\n",
    "##### Rating Count by Product and Category\n",
    "rating_counts = df.groupby(['Product Name', 'Category'])['Rating'].count().reset_index()\n",
    "rating_counts.rename(columns={'Rating': 'Rating Count'}, inplace=True)\n",
    "\n",
    "plt.figure(figsize=(12, 6))\n",
    "sns.barplot(data=rating_counts, x='Product Name', y='Rating Count', hue='Category', palette='Set2')\n",
    "plt.title(\"Rating Count by Product and Category\")\n",
    "plt.xlabel(\"Product Name\")\n",
    "plt.ylabel(\"Number of Ratings\")\n",
    "plt.xticks(rotation=45, ha='right')\n",
    "plt.tight_layout()\n",
    "plt.show()\n",
    "\n",
    "\n",
    "###### \"Average Rating by Product and Category\"\n",
    "plt.figure(figsize=(12, 6))\n",
    "sns.barplot(data=product_rating_avg, x='Product Name', y='Rating', hue='Category', palette='Set2')\n",
    "\n",
    "# Y-axis starts from 2.5 and increments by 0.1\n",
    "plt.ylim(2.5, product_rating_avg['Rating'].max() + 0.1)\n",
    "\n",
    "# custom Y-axis ticks starting at 2.5 and incrementing by 0.1\n",
    "y_ticks = np.arange(2.5, product_rating_avg['Rating'].max() + 0.1, 0.1)\n",
    "plt.yticks(y_ticks)\n",
    "\n",
    "plt.title(\"Average Rating by Product and Category\")\n",
    "plt.xlabel(\"Product Name\")\n",
    "plt.ylabel(\"Average Rating\")\n",
    "plt.xticks(rotation=45, ha='right')\n",
    "plt.show()"
   ]
  },
  {
   "cell_type": "code",
   "execution_count": null,
   "id": "3b3c349e-134e-438e-88d9-3a0815391fd9",
   "metadata": {},
   "outputs": [],
   "source": []
  },
  {
   "cell_type": "markdown",
   "id": "94bb792f",
   "metadata": {},
   "source": [
    "## Task 6: Correlation Heatmap"
   ]
  },
  {
   "cell_type": "code",
   "execution_count": null,
   "id": "69a1bb52-caf2-4ad3-a676-e0052ed7ec6c",
   "metadata": {},
   "outputs": [],
   "source": [
    "sns.heatmap(df[['MRP','PROFIT','Discount Price']].corr(numeric_only=True),annot=True,cmap='Blues')\n",
    "plt.show()"
   ]
  },
  {
   "cell_type": "markdown",
   "id": "0ce2744a",
   "metadata": {},
   "source": [
    "## Task 7: Observations"
   ]
  },
  {
   "cell_type": "markdown",
   "id": "d596f0f1",
   "metadata": {},
   "source": [
    "Write 3-5 key insights you observed from your descriptive analysis."
   ]
  },
  {
   "cell_type": "markdown",
   "id": "ce855451-d9ca-44ec-97fb-bd41657058ae",
   "metadata": {},
   "source": [
    "#### 1. Considering the Average Product Ratings by Product Name and Category we can say that \n",
    "   High Rating Count ≠ High Average Rating\n",
    "   Rating Count by Product and Category shows how many people rated each product while Average Rating by Product and Category shows avg rating each    \n",
    "   product received.\n",
    "   which means some products got many ratings but only average review and A few products have high ratings but low number of reviews. \n"
   ]
  },
  {
   "cell_type": "markdown",
   "id": "6839a79c-02e0-487f-9f7d-ba1c3d33ce7d",
   "metadata": {},
   "source": [
    "#### 2.Correlation Heatmap\n",
    "  As MRP increases, the Discount Price also increases. - strong positive correlation\n",
    "  Higher MRP tends to result in higher profit. - positive correlation\n",
    "  Discount Price has less impact on Profit - moderate correlation"
   ]
  },
  {
   "cell_type": "markdown",
   "id": "7a256940-f869-4bda-aaf1-76b9e3b0c614",
   "metadata": {},
   "source": [
    "#### 3. Pie chart shows maximum payment is done by debit card, credit card followed by upi"
   ]
  },
  {
   "cell_type": "markdown",
   "id": "ec9cc681-cfe6-46e3-b8c0-0b4ae682f2bc",
   "metadata": {},
   "source": [
    "#### 4. Payment Status Distribution by Payment Method graph help us to understand the status of paid,pending,cancelled and returned payments."
   ]
  },
  {
   "cell_type": "markdown",
   "id": "0d471918-0a07-4bfb-a441-d64590f352c6",
   "metadata": {},
   "source": [
    "#### 5. Number of order by Gender barplot indicates orders placed by MALE are greater than that of females."
   ]
  },
  {
   "cell_type": "markdown",
   "id": "a4fbb8dc-a00c-4faf-9ff6-17f9336c252b",
   "metadata": {},
   "source": [
    "#### 6. Top 10 Cities by Total order Value barchart shows the top 10 cities ranked by their total order value.\n",
    "   Suryapet records the highest total purchases, followed by Vadodara, Guntur, and Bharuch.\n",
    "   There is not a big difference in the total order value amongst the cities."
   ]
  },
  {
   "cell_type": "markdown",
   "id": "50ec026f-4594-4e4c-81d5-07cc0b2f0872",
   "metadata": {},
   "source": []
  }
 ],
 "metadata": {
  "kernelspec": {
   "display_name": "Python 3 (ipykernel)",
   "language": "python",
   "name": "python3"
  },
  "language_info": {
   "codemirror_mode": {
    "name": "ipython",
    "version": 3
   },
   "file_extension": ".py",
   "mimetype": "text/x-python",
   "name": "python",
   "nbconvert_exporter": "python",
   "pygments_lexer": "ipython3",
   "version": "3.12.7"
  }
 },
 "nbformat": 4,
 "nbformat_minor": 5
}
